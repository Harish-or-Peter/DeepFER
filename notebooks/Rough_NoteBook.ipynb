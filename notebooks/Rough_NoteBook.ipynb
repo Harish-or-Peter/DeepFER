{
 "cells": [
  {
   "cell_type": "code",
   "execution_count": null,
   "metadata": {
    "id": "w8RnLi9N96eS"
   },
   "outputs": [
    {
     "ename": "ModuleNotFoundError",
     "evalue": "No module named 'deepfer'",
     "output_type": "error",
     "traceback": [
      "\u001b[1;31m---------------------------------------------------------------------------\u001b[0m",
      "\u001b[1;31mModuleNotFoundError\u001b[0m                       Traceback (most recent call last)",
      "Cell \u001b[1;32mIn[2], line 1\u001b[0m\n\u001b[1;32m----> 1\u001b[0m \u001b[38;5;28;01mfrom\u001b[39;00m \u001b[38;5;21;01mdeepfer\u001b[39;00m \u001b[38;5;28;01mimport\u001b[39;00m load_model, predict\n\u001b[0;32m      3\u001b[0m \u001b[38;5;66;03m# one-shot\u001b[39;00m\n\u001b[0;32m      4\u001b[0m \u001b[38;5;28mprint\u001b[39m(predict(\u001b[38;5;124m\"\u001b[39m\u001b[38;5;124mdata/test/happy/141.jpg\u001b[39m\u001b[38;5;124m\"\u001b[39m, engine\u001b[38;5;241m=\u001b[39m\u001b[38;5;124m\"\u001b[39m\u001b[38;5;124mpytorch\u001b[39m\u001b[38;5;124m\"\u001b[39m, use_tta\u001b[38;5;241m=\u001b[39m\u001b[38;5;28;01mTrue\u001b[39;00m))\n",
      "\u001b[1;31mModuleNotFoundError\u001b[0m: No module named 'deepfer'"
     ]
    }
   ],
   "source": [
    "from deepfer import load_model, predict\n",
    "\n",
    "# one-shot\n",
    "print(predict(\"data/test/happy/141.jpg\", engine=\"pytorch\", use_tta=True))\n",
    "\n",
    "# reusable model (faster for many images)\n",
    "m = load_model(engine=\"onnx\")  # or 'pytorch' / 'torchscript'\n",
    "out = m.predict_file(\"data/test/sad/115.jpg\")\n",
    "print(out[\"top1\"])\n"
   ]
  },
  {
   "cell_type": "code",
   "execution_count": null,
   "metadata": {},
   "outputs": [],
   "source": []
  }
 ],
 "metadata": {
  "colab": {
   "authorship_tag": "ABX9TyMyg2jC9G/ZXOXEfmVUqFW4",
   "provenance": []
  },
  "kernelspec": {
   "display_name": "Python 3",
   "name": "python3"
  },
  "language_info": {
   "codemirror_mode": {
    "name": "ipython",
    "version": 3
   },
   "file_extension": ".py",
   "mimetype": "text/x-python",
   "name": "python",
   "nbconvert_exporter": "python",
   "pygments_lexer": "ipython3",
   "version": "3.11.9"
  }
 },
 "nbformat": 4,
 "nbformat_minor": 0
}
